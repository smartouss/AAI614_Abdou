{
  "cells": [
    {
      "cell_type": "markdown",
      "metadata": {
        "id": "DY6r9WXybbYn"
      },
      "source": [
        "# AAI614: Data Science & its Applications\n",
        "\n",
        "*Notebook 4.1: Graph Analytics with cuGraph and TIGER*\n",
        "\n",
        "\n",
        "\n",
        "The study of network robustness is critical to the understanding of complex interconnected systems. For example, consider an example of a power grid network that is susceptible to both natural failures and targeted attacks. A natural failure occurs when a single power substation fails due to erosion of parts or natural disasters. However, when one substation fails, additional load is routed to alternative substations, potentially causing a series of cascading failures. Not all failures originate from natural causes, some come from targeted attacks, such as enemy states hacking into the grid to sabotage key equipment to maximally damage the operations of the electrical grid. A natural counterpart to network robustness is vulnerability, defined as measure of a network’s susceptibility to the dissemination of entities across the network, such as how quickly a virus spreads across a computer network.\n",
        "\n",
        "In this lab, we show how to use [cuGraph](https://github.com/rapidsai/cugraph) and [TIGER](https://github.com/safreita1/TIGER) to conduct state-of-the-art GPU accelerated graph vulnerability and robustness analysis. Specifically, we will look at how to:\n",
        "\n",
        "- *Quantify network vulnerability and robustness* (**Part 1**),\n",
        "- *Simulate network attacks and cascading failures on networks* (**Part 2**)\n",
        "- *Regulate the dissemination of computer virues on a network* (**Part 3**)\n",
        "\n",
        "Lab Source: **NVIDIA**"
      ]
    },
    {
      "cell_type": "markdown",
      "metadata": {
        "id": "m07IHxfBuBp7"
      },
      "source": [
        "## Setup\n",
        "Lets begin by installing the following 2 libraries:\n",
        "\n",
        "1.   Graph vulnerability and robustness analysis library: [TIGER](https://github.com/safreita1/TIGER)\n",
        "2.   GPU acceleration library: [CuPy](https://github.com/cupy/cupy)\n"
      ]
    },
    {
      "cell_type": "code",
      "execution_count": null,
      "metadata": {
        "colab": {
          "base_uri": "https://localhost:8080/"
        },
        "id": "0w_bThcZtlX3",
        "outputId": "91c7b56e-5a38-400c-d990-7a9c06f70255"
      },
      "outputs": [],
      "source": [
        "pip install graph-tiger "
      ]
    },
    {
      "cell_type": "code",
      "execution_count": null,
      "metadata": {
        "colab": {
          "base_uri": "https://localhost:8080/"
        },
        "id": "KkbW2e1JyDLc",
        "outputId": "e1453446-ad39-43be-ffdf-29f55d4b30ed"
      },
      "outputs": [],
      "source": [
        "# Install RAPIDS\n",
        "!git clone https://github.com/rapidsai/rapidsai-csp-utils.git\n",
        "!bash rapidsai-csp-utils/colab/rapids-colab.sh stable\n",
        "\n",
        "import sys, os\n",
        "\n",
        "dist_package_index = sys.path.index('/usr/local/lib/python3.7/dist-packages')\n",
        "sys.path = sys.path[:dist_package_index] + ['/usr/local/lib/python3.7/site-packages'] + sys.path[dist_package_index:]\n",
        "sys.path\n",
        "exec(open('rapidsai-csp-utils/colab/update_modules.py').read(), globals())"
      ]
    },
    {
      "cell_type": "markdown",
      "metadata": {
        "id": "fY4Lymv-x7G0"
      },
      "source": [
        "That's it! Now we can run a variety of GPU acclerated graph mining algorithms.\n",
        "\n"
      ]
    },
    {
      "cell_type": "markdown",
      "metadata": {
        "id": "0JBQLhrOCYFn"
      },
      "source": [
        "## Part 1: Quantifing network vulnerability and robustness\n",
        "\n",
        "While CPU calculations work well for sparse graphs, GPU acceleration significantly speeds-up analysis for dense graphs. To see this, lets run the code below that measures the robustness of a Barabási Albert (BA) graph at varying levels of density (i.e., number of edges per node)."
      ]
    },
    {
      "cell_type": "code",
      "execution_count": null,
      "metadata": {
        "id": "QhLLxqeJCV6P"
      },
      "outputs": [],
      "source": [
        "import time\n",
        "from tqdm import tqdm\n",
        "\n",
        "from graph_tiger.measures import run_measure\n",
        "from graph_tiger.graphs import graph_loader\n",
        "\n",
        "# controls graph density by varying the number of non-zeroes per row (i.e., number of edges per node in graph)\n",
        "nnz_per_row = list(range(50, 501, 50))  \n",
        "\n",
        "cpu_times = []\n",
        "gpu_times = []\n",
        "for nnz in tqdm(nnz_per_row):\n",
        "  graph = graph_loader(graph_type='BA', n=1000, m=nnz, seed=1)\n",
        "\n",
        "  start_cpu = time.time()\n",
        "  robustness_index = run_measure(graph, measure='average_vertex_betweenness', k=int(0.05 * len(graph)))\n",
        "  end_cpu = time.time()\n",
        "\n",
        "  start_gpu = time.time()\n",
        "  robustness_index = run_measure(graph, measure='average_vertex_betweenness', k=12, use_gpu=True)  # ****** Replace with cuGraph version: https://docs.rapids.ai/api/cugraph/stable/api.html#module-cugraph.centrality.betweenness_centrality ******\n",
        "  end_gpu = time.time()\n",
        "\n",
        "\n",
        "  cpu_times.append(round(end_cpu - start_cpu, 2))\n",
        "  gpu_times.append(round(end_gpu - start_gpu, 2))\n",
        "\n",
        "\n"
      ]
    },
    {
      "cell_type": "markdown",
      "metadata": {
        "id": "feSLclFDI4c5"
      },
      "source": [
        "Now lets plot the results (lower is better)."
      ]
    },
    {
      "cell_type": "code",
      "execution_count": null,
      "metadata": {
        "colab": {
          "base_uri": "https://localhost:8080/",
          "height": 295
        },
        "id": "L00rAHJpCV03",
        "outputId": "62c2dc53-3e67-44b4-f778-c0b201dfdb21"
      },
      "outputs": [],
      "source": [
        "%matplotlib inline\n",
        "import matplotlib.pyplot as plt\n",
        "\n",
        "plt.plot(nnz_per_row, cpu_times, label='CPU')\n",
        "plt.plot(nnz_per_row, gpu_times, label='GPU')\n",
        "plt.xlabel('Number of edges per node (NNZ)')\n",
        "plt.ylabel('Time (seconds)')\n",
        "plt.title('Measuring Graph Robustness Runtime (CPU vs. GPU)')\n",
        "plt.legend()\n",
        "plt.show()"
      ]
    },
    {
      "cell_type": "markdown",
      "metadata": {
        "id": "X58wipWGyaJd"
      },
      "source": [
        "## Part 2. Simulating Cascading Failures in U.S. Electrical Grid\n",
        "Cascading failures often arise as a result of natural failures or targeted attacks in a network. There are 3 main processes governing the network simulation:\n",
        "\n",
        "- the **capacity** of each node (<img src=\"https://render.githubusercontent.com/render/math?math=c_v\">) in the network, e.g., power substation capacity.\n",
        "\n",
        "- the **load** of each node (<img src=\"https://render.githubusercontent.com/render/math?math=l_v\">) in the network, e.g., power substation load level\n",
        "\n",
        "- network **redundancy** (*r*) representing the amount of reserve capacity present in the network i.e., auxiliary support systems.\n",
        "\n",
        "When a node is attacked it becomes \"overloaded\", causing it to fail and requiring the load be distributed to its neighbors. When defending a node, we increase it’s capacity to protect against attacks. With just these 3 parameters, we can setup a cascading failure simulation. Below, we show how to load a graph representing the U.S. electrical grid and setup the simulation parameters. "
      ]
    },
    {
      "cell_type": "code",
      "execution_count": null,
      "metadata": {
        "id": "ZaOR8IqVN78X"
      },
      "outputs": [],
      "source": [
        "from graph_tiger.graphs import graph_loader\n",
        "\n",
        "graph = graph_loader('electrical')\n",
        "\n",
        "params = {\n",
        "   'runs': 1,  # number of times to run the simulation\n",
        "   'steps': 100,  # number of time steps to run each simulation\n",
        "   'seed': 1,  # for repoducibility\n",
        "\n",
        "   'l': 0.8,  # network load [0, 1]\n",
        "   'r': 0.2,  # network redundancey [0, 1]\n",
        "   'c': int(0.1 * len(graph)),  # load capacity approximation \n",
        "\n",
        "   'robust_measure': 'largest_connected_component',  # measure of network health\n",
        "}"
      ]
    },
    {
      "cell_type": "markdown",
      "metadata": {
        "id": "DEUFDjjYPJIX"
      },
      "source": [
        "### Setting up a Targeted Attack \n",
        "To run the attack we just have to modify a few simulation parameters. We set the attack to remove 30 nodes in the graph (e.g., power grid substations) with highest degree centrality \"id_node\". As you can imagine, there are many different strategies that can be used to attack the grid, however, by selecting degree centrality we can find \"central\" nodes in the network with many power lines (edges) connected to the substations (nodes). "
      ]
    },
    {
      "cell_type": "code",
      "execution_count": null,
      "metadata": {
        "id": "FIxAypOhN3vm"
      },
      "outputs": [],
      "source": [
        "params.update({\n",
        "   'k_a': 30,  # number of nodes to attack\n",
        "   'attack': 'id_node',  # attack strategy\n",
        "})"
      ]
    },
    {
      "cell_type": "markdown",
      "metadata": {
        "id": "DfJ4xq2jPPCX"
      },
      "source": [
        "Now lets run the simulation and plot the results!"
      ]
    },
    {
      "cell_type": "code",
      "execution_count": null,
      "metadata": {
        "colab": {
          "base_uri": "https://localhost:8080/",
          "height": 373
        },
        "id": "RgfVtPu2PPZj",
        "outputId": "6aceda23-9995-4a8b-ea94-9c315dd218c2"
      },
      "outputs": [],
      "source": [
        "from graph_tiger.cascading import Cascading\n",
        "\n",
        "cascading = Cascading(graph, **params)\n",
        "results = cascading.run_simulation()\n",
        "\n",
        "cascading.plot_results(results)"
      ]
    },
    {
      "cell_type": "markdown",
      "metadata": {
        "id": "FVhxmxWCdUo4"
      },
      "source": [
        "### 1. Collapsing a network\n",
        "\n",
        "Now try modifying the code to find the minimal attack necessary to collapse the electrical grid. To do this, plot the \"health\" of the network as measured by the robustness measure (i.e., \"largest_connected_component\") at the end of each simulation, against the attack strength (\"k_a\").\n",
        "\n",
        "**Hint:** electrical networks are fragile to targeted attacks, try removing just a few nodes."
      ]
    },
    {
      "cell_type": "code",
      "execution_count": null,
      "metadata": {
        "colab": {
          "base_uri": "https://localhost:8080/",
          "height": 499
        },
        "id": "jJ5nvT4SdU98",
        "outputId": "27be01dc-f124-43c5-9dc3-5c933b847078"
      },
      "outputs": [],
      "source": [
        "sim_results =[]\n",
        "\n",
        "params['attack'] = 'id_node'\n",
        "attack_strengths = list(range(0, 6, 1))\n",
        "\n",
        "for k_a in tqdm(attack_strengths):\n",
        "  params['k_a'] = k_a\n",
        "\n",
        "  cascading = Cascading(graph, **params)\n",
        "  results = cascading.run_simulation()\n",
        "\n",
        "  lcc_at_end = results[-1]\n",
        "  sim_results.append(lcc_at_end)\n",
        "\n",
        "%matplotlib inline\n",
        "import matplotlib.pyplot as plt\n",
        "\n",
        "plt.plot(attack_strengths, sim_results)\n",
        "plt.xlabel('Attack strength')\n",
        "plt.ylabel('Largest connected component')\n",
        "plt.title('Effect of Attack Strength in Cascading Failures')"
      ]
    },
    {
      "cell_type": "markdown",
      "metadata": {
        "id": "baz5EtasjkGx"
      },
      "source": [
        "# Part 3. Simulating Computer Virus Spread Across Router Network\n",
        "\n",
        "The flu-like susceptible-infected-susceptible (SIS) is a popular model that allows us to simulate the spread of viruses across networks (graphs). Each node in the SIS model can be in one of two states, infected *I* or susceptible *S*, and at each time step *t*, an infected node has a probability *β* of infecting each of it's uninfected neighbors. After this, each infected node has a probability *δ* of healing and becoming susceptible again.\n",
        "\n",
        "It’s been shown there's a direct correlation between the graph's topology as measured through the spectral radius (largest eigenvalue) of the graph, and the virus remaining endemic. The exact relationship between a virus's strength (*s*), birth rate (*β*), death rate (*δ*) and spectral radius (*λ1*) is s=λ1⋅b/d, where a larger *s* means a stronger virus. With just these 3 parameters, we can setup a computer virus simulation. \n",
        "\n",
        "Below, we (1) load the Autonomous systems AS-733 network, which is a graph of routers comprising the internet; and (2) setup the simulation parameters.  "
      ]
    },
    {
      "cell_type": "code",
      "execution_count": null,
      "metadata": {
        "id": "QrIz_m74jkcv"
      },
      "outputs": [],
      "source": [
        "from graph_tiger.graphs import graph_loader\n",
        "\n",
        "graph = graph_loader('as_733')\n",
        "\n",
        "sis_params = {\n",
        "   'runs': 1,  # number of simulations to run\n",
        "   'steps': 5000,  # number of time steps to run simulation\n",
        "\n",
        "   'model': 'SIS',\n",
        "   'b': 0.00208,  # virus birth rate \n",
        "   'd': 0.01,  # virus death rate\n",
        "   'c': 0.3,  # fraction of the network that starts infected \n",
        "}"
      ]
    },
    {
      "cell_type": "markdown",
      "metadata": {
        "id": "eASO8u0Fse8J"
      },
      "source": [
        "Now lets run the simulation and plot the results! In the figure below, we see that without intervention the virus remains endemic on the router network."
      ]
    },
    {
      "cell_type": "code",
      "execution_count": null,
      "metadata": {
        "colab": {
          "base_uri": "https://localhost:8080/",
          "height": 373
        },
        "id": "m5EtzM9dmzwQ",
        "outputId": "490db316-5bda-4817-8fb0-ddc8a27a84ae"
      },
      "outputs": [],
      "source": [
        "from graph_tiger.diffusion import Diffusion\n",
        "\n",
        "diffusion = Diffusion(graph, **sis_params)\n",
        "results = diffusion.run_simulation()\n",
        "\n",
        "diffusion.plot_results(results)"
      ]
    },
    {
      "cell_type": "markdown",
      "metadata": {
        "id": "gmotd41csn5N"
      },
      "source": [
        "While we do not have control over the virus strength (*s*), we can maniuplate the underlying toplogy of the router network to make it harder for the virus to spread. The question is, how do we optimally modify the network to reduce the spread of the virus? While a naive solution may be to disconnect the whole network, this isn't very practical since everyone would loose internet access! Instead, we need a strategy that carefully vaccinates a few nodes (routers) against the virus."
      ]
    },
    {
      "cell_type": "markdown",
      "metadata": {
        "id": "Jlj7TxOueQ4D"
      },
      "source": [
        "### 2. Optimally Vaccinating a Network\n",
        "\n",
        "Now lets compare the efficacy of 4 vaccination strategies when vaccinating only 3 nodes in the network:\n",
        "\n",
        "1. [netshield](https://graph-tiger.readthedocs.io/en/latest/defenses.html#graph_tiger.defenses.get_node_ns) ('ns_node')\n",
        "2. [id_node](https://graph-tiger.readthedocs.io/en/latest/defenses.html#graph_tiger.defenses.get_node_id) ('id_node')\n",
        "2. [rd_node](https://graph-tiger.readthedocs.io/en/latest/defenses.html#graph_tiger.defenses.get_node_rd) ('rd_node')\n",
        "3. [ib_node](https://graph-tiger.readthedocs.io/en/latest/defenses.html#graph_tiger.defenses.get_node_ib) ('ib_node')\n",
        "\n",
        "To implement a defense strategy you just have to modify a few simulation parameters."
      ]
    },
    {
      "cell_type": "code",
      "execution_count": null,
      "metadata": {
        "id": "hOm1GvX9slvx"
      },
      "outputs": [],
      "source": [
        "sis_params.update({\n",
        "    'diffusion': 'min',  # we want to minimize the ability of the virus to propagate,\n",
        "    'method': 'ns_node',  # use the Netshield technique\n",
        "    'k': 15  # vaccinate 5 nodes according the selected strategy\n",
        "})"
      ]
    },
    {
      "cell_type": "markdown",
      "metadata": {
        "id": "ClLDN5-LhY8i"
      },
      "source": [
        "Does each strategy manage to contain the virus (i.e., less than 1\\% infected population)? Which strategy has the lowest infected population at the end of the simulation? Setup and run each simulation and compare the results to the unvaccinated network."
      ]
    },
    {
      "cell_type": "code",
      "execution_count": null,
      "metadata": {
        "colab": {
          "base_uri": "https://localhost:8080/",
          "height": 1000
        },
        "id": "UgAk7eEIbcWq",
        "outputId": "ef3d2275-257f-447a-b691-f1a264071070"
      },
      "outputs": [],
      "source": [
        "methods = ['ns_node', 'id_node', 'rd_node', 'pr_node']\n",
        "\n",
        "for method in methods:\n",
        "  sis_params['method'] = method\n",
        "\n",
        "  diffusion = Diffusion(graph, **sis_params)\n",
        "  results = diffusion.run_simulation()\n",
        "\n",
        "  print('Percent of network that remains infected at end of simulation using {} vaccination technique is {}%'.format(method, round((results[-1] / len(graph)) * 100, 2)))\n",
        "  diffusion.plot_results(results) "
      ]
    }
  ],
  "metadata": {
    "accelerator": "GPU",
    "colab": {
      "collapsed_sections": [],
      "name": "Lab 17_ Graph Analytics w_ TIGER.ipynb",
      "provenance": []
    },
    "kernelspec": {
      "display_name": "Python 3",
      "name": "python3"
    }
  },
  "nbformat": 4,
  "nbformat_minor": 0
}
